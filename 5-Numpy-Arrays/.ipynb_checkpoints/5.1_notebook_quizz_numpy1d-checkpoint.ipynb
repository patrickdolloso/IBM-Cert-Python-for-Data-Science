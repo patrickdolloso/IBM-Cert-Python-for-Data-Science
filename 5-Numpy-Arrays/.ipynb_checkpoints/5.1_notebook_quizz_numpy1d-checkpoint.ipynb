{
 "cells": [
  {
   "cell_type": "markdown",
   "metadata": {},
   "source": [
    "<h3> Get to Know a numpy Array </h3>"
   ]
  },
  {
   "cell_type": "markdown",
   "metadata": {},
   "source": [
    "cast the following list to a numpy array:"
   ]
  },
  {
   "cell_type": "code",
   "execution_count": 3,
   "metadata": {},
   "outputs": [
    {
     "data": {
      "text/plain": [
       "array([1, 2, 3, 4, 5])"
      ]
     },
     "execution_count": 3,
     "metadata": {},
     "output_type": "execute_result"
    }
   ],
   "source": [
    "import numpy as np\n",
    "a=[1,2,3,4,5]\n",
    "\n",
    "a1 = np.array(a)\n",
    "a1"
   ]
  },
  {
   "cell_type": "markdown",
   "metadata": {},
   "source": [
    "1) type using the function type "
   ]
  },
  {
   "cell_type": "code",
   "execution_count": 4,
   "metadata": {},
   "outputs": [
    {
     "data": {
      "text/plain": [
       "numpy.ndarray"
      ]
     },
     "execution_count": 4,
     "metadata": {},
     "output_type": "execute_result"
    }
   ],
   "source": [
    "type(a1)"
   ]
  },
  {
   "cell_type": "markdown",
   "metadata": {},
   "source": [
    "2) the shape of the array "
   ]
  },
  {
   "cell_type": "code",
   "execution_count": 6,
   "metadata": {},
   "outputs": [
    {
     "data": {
      "text/plain": [
       "(5,)"
      ]
     },
     "execution_count": 6,
     "metadata": {},
     "output_type": "execute_result"
    }
   ],
   "source": [
    "a1.shape"
   ]
  },
  {
   "cell_type": "markdown",
   "metadata": {},
   "source": [
    "3) the type of data in the array "
   ]
  },
  {
   "cell_type": "code",
   "execution_count": 7,
   "metadata": {},
   "outputs": [
    {
     "data": {
      "text/plain": [
       "dtype('int64')"
      ]
     },
     "execution_count": 7,
     "metadata": {},
     "output_type": "execute_result"
    }
   ],
   "source": [
    "a1.dtype"
   ]
  },
  {
   "cell_type": "markdown",
   "metadata": {},
   "source": [
    "4) find the mean of the array "
   ]
  },
  {
   "cell_type": "code",
   "execution_count": 9,
   "metadata": {},
   "outputs": [
    {
     "data": {
      "text/plain": [
       "3.0"
      ]
     },
     "execution_count": 9,
     "metadata": {},
     "output_type": "execute_result"
    }
   ],
   "source": [
    "mean_a = a1.mean()\n",
    "mean_a"
   ]
  },
  {
   "cell_type": "markdown",
   "metadata": {},
   "source": [
    "<h3> Creating and Plotting Functions  </h3>"
   ]
  },
  {
   "cell_type": "markdown",
   "metadata": {},
   "source": [
    "1) create the following functions using the numpy array <code> x </code>"
   ]
  },
  {
   "cell_type": "markdown",
   "metadata": {},
   "source": [
    "$$y=sin(x)+2$$"
   ]
  },
  {
   "cell_type": "code",
   "execution_count": 11,
   "metadata": {},
   "outputs": [
    {
     "data": {
      "text/plain": [
       "array([2.        , 2.06342392, 2.12659245, 2.18925124, 2.25114799,\n",
       "       2.31203345, 2.37166246, 2.42979491, 2.48619674, 2.54064082,\n",
       "       2.59290793, 2.64278761, 2.69007901, 2.73459171, 2.77614646,\n",
       "       2.81457595, 2.84972543, 2.88145336, 2.909632  , 2.93414786,\n",
       "       2.95490224, 2.97181157, 2.98480775, 2.99383846, 2.99886734,\n",
       "       2.99987413, 2.99685478, 2.98982144, 2.97880245, 2.96384216,\n",
       "       2.94500082, 2.92235429, 2.89599377, 2.8660254 , 2.83256985,\n",
       "       2.79576184, 2.75574957, 2.71269417, 2.666769  , 2.61815899,\n",
       "       2.56705986, 2.51367739, 2.45822652, 2.40093054, 2.34202014,\n",
       "       2.28173256, 2.22031053, 2.1580014 , 2.09505604, 2.03172793,\n",
       "       1.96827207, 1.90494396, 1.8419986 , 1.77968947, 1.71826744,\n",
       "       1.65797986, 1.59906946, 1.54177348, 1.48632261, 1.43294014,\n",
       "       1.38184101, 1.333231  , 1.28730583, 1.24425043, 1.20423816,\n",
       "       1.16743015, 1.1339746 , 1.10400623, 1.07764571, 1.05499918,\n",
       "       1.03615784, 1.02119755, 1.01017856, 1.00314522, 1.00012587,\n",
       "       1.00113266, 1.00616154, 1.01519225, 1.02818843, 1.04509776,\n",
       "       1.06585214, 1.090368  , 1.11854664, 1.15027457, 1.18542405,\n",
       "       1.22385354, 1.26540829, 1.30992099, 1.35721239, 1.40709207,\n",
       "       1.45935918, 1.51380326, 1.57020509, 1.62833754, 1.68796655,\n",
       "       1.74885201, 1.81074876, 1.87340755, 1.93657608, 2.        ])"
      ]
     },
     "execution_count": 11,
     "metadata": {},
     "output_type": "execute_result"
    }
   ],
   "source": [
    "x=np.linspace(0,2*np.pi,100)\n",
    "\n",
    "y=np.sin(x) + 2\n",
    "y"
   ]
  },
  {
   "cell_type": "markdown",
   "metadata": {},
   "source": [
    "2)  plot the function"
   ]
  },
  {
   "cell_type": "code",
   "execution_count": null,
   "metadata": {},
   "outputs": [],
   "source": [
    "import matplotlib.pyplot as plt\n",
    "%matplotlib inline  \n",
    "plt.pl\n",
    "\n"
   ]
  },
  {
   "cell_type": "markdown",
   "metadata": {},
   "source": [
    "<hr>\n",
    "<small>Copyright &copy; 2018 IBM Cognitive Class. This notebook and its source code are released under the terms of the [MIT License](https://cognitiveclass.ai/mit-license/).</small>"
   ]
  }
 ],
 "metadata": {
  "kernelspec": {
   "display_name": "Python 3",
   "language": "python",
   "name": "python3"
  },
  "language_info": {
   "codemirror_mode": {
    "name": "ipython",
    "version": 3
   },
   "file_extension": ".py",
   "mimetype": "text/x-python",
   "name": "python",
   "nbconvert_exporter": "python",
   "pygments_lexer": "ipython3",
   "version": "3.7.0"
  }
 },
 "nbformat": 4,
 "nbformat_minor": 2
}
